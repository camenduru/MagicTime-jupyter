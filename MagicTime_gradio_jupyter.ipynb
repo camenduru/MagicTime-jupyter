{
  "cells": [
    {
      "cell_type": "markdown",
      "metadata": {
        "id": "view-in-github"
      },
      "source": [
        "[![Open In Colab](https://colab.research.google.com/assets/colab-badge.svg)](https://colab.research.google.com/github/camenduru/MagicTime-jupyter/blob/main/MagicTime_gradio_jupyter.ipynb)"
      ]
    },
    {
      "cell_type": "code",
      "execution_count": null,
      "metadata": {
        "id": "VjYy0F2gZIPR"
      },
      "outputs": [],
      "source": [
        "%cd /content\n",
        "!git clone -b dev https://github.com/camenduru/MagicTime\n",
        "%cd /content/MagicTime\n",
        "\n",
        "!pip install -q xformers==0.0.25 einops omegaconf gradio accelerate==0.28.0 diffusers==0.11.1 transformers==4.38.2 ms-swift\n",
        "!pip install \"jax[cuda11_local]==0.4.19\" \"jaxlib[cuda11_local]==0.4.19\" -f https://storage.googleapis.com/jax-releases/jax_cuda_releases.html\n",
        "\n",
        "!apt -y install -qq aria2\n",
        "!git clone -b fp16 https://huggingface.co/runwayml/stable-diffusion-v1-5 /content/MagicTime/ckpts/Base_Model/stable-diffusion-v1-5\n",
        "!aria2c --console-log-level=error -c -x 16 -s 16 -k 1M https://huggingface.co/spaces/BestWishYsh/MagicTime/resolve/main/ckpts/Base_Model/motion_module/motion_module.ckpt -d /content/MagicTime/ckpts/Base_Model/motion_module -o motion_module.ckpt\n",
        "!aria2c --console-log-level=error -c -x 16 -s 16 -k 1M https://huggingface.co/spaces/BestWishYsh/MagicTime/resolve/main/ckpts/DreamBooth/RcnzCartoon.safetensors -d /content/MagicTime/ckpts/DreamBooth -o RcnzCartoon.safetensors\n",
        "!aria2c --console-log-level=error -c -x 16 -s 16 -k 1M https://huggingface.co/spaces/BestWishYsh/MagicTime/resolve/main/ckpts/DreamBooth/RealisticVisionV60B1_v51VAE.safetensors -d /content/MagicTime/ckpts/DreamBooth -o RealisticVisionV60B1_v51VAE.safetensors\n",
        "!aria2c --console-log-level=error -c -x 16 -s 16 -k 1M https://huggingface.co/spaces/BestWishYsh/MagicTime/resolve/main/ckpts/DreamBooth/ToonYou_beta6.safetensors -d /content/MagicTime/ckpts/DreamBooth -o ToonYou_beta6.safetensors\n",
        "!aria2c --console-log-level=error -c -x 16 -s 16 -k 1M https://huggingface.co/spaces/BestWishYsh/MagicTime/resolve/main/ckpts/Magic_Weights/magic_adapter_s/magic_adapter_s.ckpt -d /content/MagicTime/ckpts/Magic_Weights/magic_adapter_s -o magic_adapter_s.ckpt\n",
        "!aria2c --console-log-level=error -c -x 16 -s 16 -k 1M https://huggingface.co/spaces/BestWishYsh/MagicTime/raw/main/ckpts/Magic_Weights/magic_adapter_t/configuration.json -d /content/MagicTime/ckpts/Magic_Weights/magic_adapter_t -o configuration.json\n",
        "!aria2c --console-log-level=error -c -x 16 -s 16 -k 1M https://huggingface.co/spaces/BestWishYsh/MagicTime/raw/main/ckpts/Magic_Weights/magic_adapter_t/default/adapter_config.json -d /content/MagicTime/ckpts/Magic_Weights/magic_adapter_t/default -o adapter_config.json\n",
        "!aria2c --console-log-level=error -c -x 16 -s 16 -k 1M https://huggingface.co/spaces/BestWishYsh/MagicTime/resolve/main/ckpts/Magic_Weights/magic_adapter_t/default/adapter_model.bin -d /content/MagicTime/ckpts/Magic_Weights/magic_adapter_t/default -o adapter_model.bin\n",
        "!aria2c --console-log-level=error -c -x 16 -s 16 -k 1M https://huggingface.co/spaces/BestWishYsh/MagicTime/raw/main/ckpts/Magic_Weights/magic_text_encoder/configuration.json -d /content/MagicTime/ckpts/Magic_Weights/magic_text_encoder -o configuration.json\n",
        "!aria2c --console-log-level=error -c -x 16 -s 16 -k 1M https://huggingface.co/spaces/BestWishYsh/MagicTime/resolve/main/ckpts/Magic_Weights/magic_text_encoder/default/adapter_model.bin -d /content/MagicTime/ckpts/Magic_Weights/magic_text_encoder/default -o adapter_model.bin\n",
        "!aria2c --console-log-level=error -c -x 16 -s 16 -k 1M https://huggingface.co/spaces/BestWishYsh/MagicTime/raw/main/ckpts/Magic_Weights/magic_text_encoder/default/adapter_config.json -d /content/MagicTime/ckpts/Magic_Weights/magic_text_encoder/default -o adapter_config.json\n",
        "\n",
        "!python app.py"
      ]
    }
  ],
  "metadata": {
    "accelerator": "GPU",
    "colab": {
      "gpuType": "T4",
      "provenance": []
    },
    "kernelspec": {
      "display_name": "Python 3",
      "name": "python3"
    },
    "language_info": {
      "name": "python"
    }
  },
  "nbformat": 4,
  "nbformat_minor": 0
}
